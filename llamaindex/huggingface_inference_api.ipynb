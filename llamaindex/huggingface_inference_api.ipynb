{
 "cells": [
  {
   "cell_type": "code",
   "execution_count": 1,
   "id": "9560435f",
   "metadata": {},
   "outputs": [
    {
     "name": "stderr",
     "output_type": "stream",
     "text": [
      "c:\\Users\\kevin\\miniconda3\\envs\\agents_mcp_env\\Lib\\site-packages\\tqdm\\auto.py:21: TqdmWarning: IProgress not found. Please update jupyter and ipywidgets. See https://ipywidgets.readthedocs.io/en/stable/user_install.html\n",
      "  from .autonotebook import tqdm as notebook_tqdm\n"
     ]
    }
   ],
   "source": [
    "from llama_index.llms.huggingface_api import HuggingFaceInferenceAPI\n",
    "import os\n",
    "from dotenv import find_dotenv, load_dotenv"
   ]
  },
  {
   "cell_type": "code",
   "execution_count": 2,
   "id": "82982db4",
   "metadata": {},
   "outputs": [],
   "source": [
    "# Load the .env file\n",
    "load_dotenv(find_dotenv())\n",
    "\n",
    "# Retrieve HF_TOKEN from the environment variables\n",
    "hf_token = os.getenv(\"HF_TOKEN\")"
   ]
  },
  {
   "cell_type": "code",
   "execution_count": 4,
   "id": "d6f163e3",
   "metadata": {},
   "outputs": [],
   "source": [
    "llm = HuggingFaceInferenceAPI(\n",
    "    model_name=\"Qwen/Qwen2.5-Coder-32B-Instruct\",\n",
    "    temperature=0.7,\n",
    "    max_tokens=1000,\n",
    "    token=hf_token,\n",
    "    provider=\"auto\"\n",
    ")"
   ]
  },
  {
   "cell_type": "code",
   "execution_count": 8,
   "id": "70c215d8",
   "metadata": {},
   "outputs": [
    {
     "name": "stdout",
     "output_type": "stream",
     "text": [
      "Python is a high-level, interpreted programming language known for its clear syntax and readability, which makes it an excellent choice for both beginners and experienced developers. Here are some key points about Python:\n",
      "\n",
      "1. **Dynamic Typing**: Python is dynamically typed, meaning you don't need to declare the type of a variable when you create one. The type is determined at runtime.\n",
      "\n",
      "2. **Interpreted Language**: Python code is executed line by line, which makes debugging easier and allows for rapid prototyping.\n",
      "\n",
      "3. **Object-Oriented**: Python supports object-oriented programming (OOP) with features like classes, objects, inheritance, and polymorphism.\n",
      "\n",
      "4. **Extensive Standard Library**: Python comes with a large standard library that includes modules and packages for various tasks, such as file I/O, system calls, internet protocols, and web services.\n",
      "\n",
      "5. **Multiple Paradigms**: Besides OOP, Python supports procedural programming, functional programming, and metaprogramming.\n",
      "\n",
      "6. **Cross-Platform**: Python is available on many operating systems, including Windows, macOS, and Linux, making it a versatile choice for development.\n",
      "\n",
      "7. **Community and Ecosystem**: Python has a large and active community, which contributes to a rich ecosystem of third-party packages and tools\n"
     ]
    }
   ],
   "source": [
    "response = llm.complete(\"What do you know about the Python programming language?\")\n",
    "print(response)"
   ]
  },
  {
   "cell_type": "code",
   "execution_count": null,
   "id": "b9455049",
   "metadata": {},
   "outputs": [],
   "source": []
  }
 ],
 "metadata": {
  "kernelspec": {
   "display_name": "agents_mcp_env",
   "language": "python",
   "name": "python3"
  },
  "language_info": {
   "codemirror_mode": {
    "name": "ipython",
    "version": 3
   },
   "file_extension": ".py",
   "mimetype": "text/x-python",
   "name": "python",
   "nbconvert_exporter": "python",
   "pygments_lexer": "ipython3",
   "version": "3.13.5"
  }
 },
 "nbformat": 4,
 "nbformat_minor": 5
}
