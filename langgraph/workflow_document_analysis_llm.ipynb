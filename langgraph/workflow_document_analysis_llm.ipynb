{
 "cells": [
  {
   "cell_type": "code",
   "execution_count": null,
   "id": "18596c88",
   "metadata": {},
   "outputs": [
    {
     "name": "stderr",
     "output_type": "stream",
     "text": [
      "c:\\Users\\kevin\\miniconda3\\envs\\agents_mcp_env\\Lib\\site-packages\\tqdm\\auto.py:21: TqdmWarning: IProgress not found. Please update jupyter and ipywidgets. See https://ipywidgets.readthedocs.io/en/stable/user_install.html\n",
      "  from .autonotebook import tqdm as notebook_tqdm\n"
     ]
    }
   ],
   "source": [
    "import os, base64\n",
    "from dotenv import load_dotenv, find_dotenv\n",
    "from typing import TypedDict, Annotated, Optional\n",
    "from langchain_core.messages import AnyMessage, SystemMessage, HumanMessage\n",
    "from langgraph.graph.message import add_messages\n",
    "from langchain_ollama import ChatOllama\n",
    "from langchain_huggingface import ChatHuggingFace, HuggingFaceEndpoint\n",
    "from langgraph.graph import START, StateGraph\n",
    "from langgraph.prebuilt import ToolNode, tools_condition"
   ]
  },
  {
   "cell_type": "markdown",
   "id": "0ec7c19f",
   "metadata": {},
   "source": [
    "#### State"
   ]
  },
  {
   "cell_type": "code",
   "execution_count": 2,
   "id": "23300d97",
   "metadata": {},
   "outputs": [],
   "source": [
    "class AgentState(TypedDict):\n",
    "    # The document provided\n",
    "    input_file: Optional[str]  # Contains file path (PDF/PNG)\n",
    "    messages: Annotated[list[AnyMessage], add_messages]"
   ]
  },
  {
   "cell_type": "markdown",
   "id": "e4a34888",
   "metadata": {},
   "source": [
    "#### Initialize Models"
   ]
  },
  {
   "cell_type": "code",
   "execution_count": 3,
   "id": "7e530877",
   "metadata": {},
   "outputs": [],
   "source": [
    "# Load the .env file\n",
    "load_dotenv(find_dotenv())\n",
    "\n",
    "# Retrieve HF_TOKEN from the environment variables\n",
    "hf_token = os.getenv(\"HF_TOKEN\")"
   ]
  },
  {
   "cell_type": "code",
   "execution_count": null,
   "id": "f5d9ca0f",
   "metadata": {},
   "outputs": [],
   "source": [
    "OLLAMA_MULTIMODAL_MODEL = \"gemma3:4b\"\n",
    "HUGGINGFACE_LLM_TOOL_CALLING = \"openai/gpt-oss-20b\"\n",
    "\n",
    "vision_llm = ChatOllama(model=OLLAMA_MULTIMODAL_MODEL)\n",
    "llm = ChatHuggingFace(llm = HuggingFaceEndpoint(model=HUGGINGFACE_LLM_TOOL_CALLING, temperature=0.0,\n",
    "                                                max_new_tokens=5000, huggingfacehub_api_token=hf_token,\n",
    "                                                provider=\"auto\"))"
   ]
  },
  {
   "cell_type": "markdown",
   "id": "e295d7d9",
   "metadata": {},
   "source": [
    "#### Tools"
   ]
  },
  {
   "cell_type": "code",
   "execution_count": 5,
   "id": "a65af2df",
   "metadata": {},
   "outputs": [],
   "source": [
    "def extract_text(img_path: str) -> str:\n",
    "    \"\"\"\n",
    "    Extract text from an image file using a multimodal model.\n",
    "    \"\"\"\n",
    "    all_text = \"\"\n",
    "    try:\n",
    "        # Read image and encode as base64\n",
    "        with open(img_path, \"rb\") as image_file:\n",
    "            image_bytes = image_file.read()\n",
    "\n",
    "        image_base64 = base64.b64encode(image_bytes).decode(\"utf-8\")\n",
    "\n",
    "        # Prepare the prompt including the base64 image data\n",
    "        message = [\n",
    "            HumanMessage(\n",
    "                content=[\n",
    "                    {\n",
    "                        \"type\": \"text\",\n",
    "                        \"text\": (\n",
    "                            \"Extract all the text from this image. \"\n",
    "                            \"Return only the extracted text, no explanations.\"\n",
    "                        ),\n",
    "                    },\n",
    "                    {\n",
    "                        \"type\": \"image_url\",\n",
    "                        \"image_url\": {\n",
    "                            \"url\": f\"data:image/png;base64,{image_base64}\"\n",
    "                        },\n",
    "                    },\n",
    "                ]\n",
    "            )\n",
    "        ]\n",
    "\n",
    "        # Call the vision-capable model\n",
    "        response = vision_llm.invoke(message)\n",
    "\n",
    "        # Append extracted text\n",
    "        all_text += response.content + \"\\n\\n\"\n",
    "\n",
    "        return all_text.strip()\n",
    "\n",
    "    except Exception as e:\n",
    "        error_msg = f\"Error extracting text: {str(e)}\"\n",
    "        print(error_msg)\n",
    "        return \"\"\n",
    "\n",
    "def divide(a: int, b: int) -> float:\n",
    "    \"\"\"Divide a and b - for occasional calculations.\"\"\"\n",
    "    return a / b"
   ]
  },
  {
   "cell_type": "code",
   "execution_count": 6,
   "id": "56b34dd2",
   "metadata": {},
   "outputs": [],
   "source": [
    "# List of tools\n",
    "tools = [\n",
    "    divide,\n",
    "    extract_text\n",
    "]"
   ]
  },
  {
   "cell_type": "code",
   "execution_count": 7,
   "id": "8d0d3b33",
   "metadata": {},
   "outputs": [],
   "source": [
    "llm_with_tools = llm.bind_tools(tools)"
   ]
  },
  {
   "cell_type": "markdown",
   "id": "6b23b164",
   "metadata": {},
   "source": [
    "#### Nodes"
   ]
  },
  {
   "cell_type": "code",
   "execution_count": 8,
   "id": "845a2047",
   "metadata": {},
   "outputs": [],
   "source": [
    "def assistant(state: AgentState):\n",
    "    # System message\n",
    "    textual_description_of_tool=\"\"\"\n",
    "        extract_text(img_path: str) -> str:\n",
    "            Extract text from an image file using a multimodal model.\n",
    "\n",
    "            Args:\n",
    "                img_path: A local image file path (strings).\n",
    "\n",
    "            Returns:\n",
    "                A single string containing the concatenated text extracted from each image.\n",
    "        \n",
    "        divide(a: int, b: int) -> float:\n",
    "            Divide a and b\n",
    "    \"\"\"\n",
    "    image=state[\"input_file\"]\n",
    "    sys_msg = SystemMessage(content=f\"You are a helpful assitant that can analyse documents and run computations with provided tools:\\n{textual_description_of_tool} \\n You have access to some optional images. Currently the loaded image is: {image}\")\n",
    "\n",
    "    return {\n",
    "        \"messages\": [llm_with_tools.invoke([sys_msg] + state[\"messages\"])],\n",
    "        \"input_file\": state[\"input_file\"]\n",
    "    }"
   ]
  },
  {
   "cell_type": "markdown",
   "id": "32740edd",
   "metadata": {},
   "source": [
    "#### State Graph"
   ]
  },
  {
   "cell_type": "code",
   "execution_count": 9,
   "id": "ea27eb42",
   "metadata": {},
   "outputs": [
    {
     "data": {
      "image/png": "[encoded data removed]",
      "text/plain": [
       "<langgraph.graph.state.CompiledStateGraph object at 0x000001A33F2AB0E0>"
      ]
     },
     "execution_count": 9,
     "metadata": {},
     "output_type": "execute_result"
    }
   ],
   "source": [
    "# The graph\n",
    "builder = StateGraph(AgentState)\n",
    "\n",
    "# Define nodes: these do the work\n",
    "builder.add_node(\"assistant\", assistant)\n",
    "builder.add_node(\"tools\", ToolNode(tools))\n",
    "\n",
    "# Define edges: these determine how the control flow moves\n",
    "builder.add_edge(START, \"assistant\")\n",
    "builder.add_conditional_edges(\n",
    "    \"assistant\",\n",
    "    # If the latest message requires a tool, route to tools\n",
    "    # Otherwise, provide a direct response\n",
    "    tools_condition,\n",
    ")\n",
    "builder.add_edge(\"tools\", \"assistant\")\n",
    "\n",
    "react_graph = builder.compile()\n",
    "react_graph"
   ]
  },
  {
   "cell_type": "markdown",
   "id": "66cc0bec",
   "metadata": {},
   "source": [
    "#### Run Graph"
   ]
  },
  {
   "cell_type": "code",
   "execution_count": 10,
   "id": "e81eb47d",
   "metadata": {},
   "outputs": [
    {
     "name": "stdout",
     "output_type": "stream",
     "text": [
      "================================\u001b[1m Human Message \u001b[0m=================================\n",
      "\n",
      "Divide 6790 by 5\n",
      "==================================\u001b[1m Ai Message \u001b[0m==================================\n",
      "Tool Calls:\n",
      "  divide (call_oaoM1c7kryauSMABTnXySYQo)\n",
      " Call ID: call_oaoM1c7kryauSMABTnXySYQo\n",
      "  Args:\n",
      "    a: 6790\n",
      "    b: 5\n",
      "=================================\u001b[1m Tool Message \u001b[0m=================================\n",
      "Name: divide\n",
      "\n",
      "1358.0\n",
      "==================================\u001b[1m Ai Message \u001b[0m==================================\n",
      "\n",
      "6790 ÷ 5 = **1358**.\n"
     ]
    }
   ],
   "source": [
    "# Example 1: Simple Calculations\n",
    "\n",
    "messages = [HumanMessage(content=\"Divide 6790 by 5\")]\n",
    "messages = react_graph.invoke({\"messages\": messages, \"input_file\": None})\n",
    "\n",
    "# Show the messages\n",
    "for m in messages['messages']:\n",
    "    m.pretty_print()"
   ]
  },
  {
   "cell_type": "code",
   "execution_count": 11,
   "id": "d877cec4",
   "metadata": {},
   "outputs": [
    {
     "name": "stdout",
     "output_type": "stream",
     "text": [
      "================================\u001b[1m Human Message \u001b[0m=================================\n",
      "\n",
      "According to the abstract in the provided images. What's this research about?\n",
      "==================================\u001b[1m Ai Message \u001b[0m==================================\n",
      "Tool Calls:\n",
      "  extract_text (call_ghRN4jgkfn6a5QMe3RGQUepM)\n",
      " Call ID: call_ghRN4jgkfn6a5QMe3RGQUepM\n",
      "  Args:\n",
      "    img_path: data/fake_news_detection_paper_abstract.png\n",
      "=================================\u001b[1m Tool Message \u001b[0m=================================\n",
      "Name: extract_text\n",
      "\n",
      "It is fundamentally the same problem tackled for the English language; however, there is not a significant amount of publicly available and adequately labeled fake news in Spanish to effectively train a Machine Learning model, similarly to those proposed for the English language. Therefore, this work explores different training strategies and architectures to establish a baseline for further research in this area. Four datasets were used, two in Spanish and four experimental schemes were tested, including a baseline with classical Machine Learning models, trained and validated using a small dataset in Spanish. The remaining schemes include state-of-the-art Deep Learning models trained (or fine-tuned) and validated in Spanish, trained and validated in Spanish, and limited in English and validated with automatic translated English sentences. The Deep Learning architectures were built on top of BERT-version Word Embedding representations, including GloVe, ELMo, BERT, and Differentiator trained for a large corpus in Spanish). According to the results, the best strategy was yielding an accuracy of up to 80%, nonetheless, a Recurrent Neural Network based on LSTM layers obtained similar results in accuracy of up to 80%, therefore, the translation model did not yield accurate estimation similar results in accuracy of up to 80%.\n",
      "==================================\u001b[1m Ai Message \u001b[0m==================================\n",
      "\n",
      "**Short answer:**  \n",
      "The paper studies how to automatically detect fake news written in Spanish. It investigates a range of traditional and modern machine‑learning techniques, trains and validates each one on Spanish‑language data, and shows that good results (≈ 80 % accuracy) can be achieved even with the limited labeled data available for Spanish.\n",
      "\n",
      "---\n",
      "\n",
      "### Key points from the abstract\n",
      "\n",
      "1. **Problem context**  \n",
      "   * Fake‑news detection is a common NLP task for English, but Spanish lacks large, high‑quality labeled corpora for training robust models.\n",
      "\n",
      "2. **Objective**  \n",
      "   * To explore different *training strategies* and *architectures* specifically for Spanish fake‑news detection, and to set a baseline that future work can improve on.\n",
      "\n",
      "3. **Datasets used**  \n",
      "   * Four datasets are employed, two of which are Spanish‑language corpora collected for this study.\n",
      "\n",
      "4. **Experimental schemes**  \n",
      "   * **Baseline:** Classical machine‑learning models trained/validated on the small Spanish dataset.  \n",
      "   * **Deep‑learning approaches:**  \n",
      "     - Models based on BERT‑style embeddings, including GloVe, ELMo, BERT, and a Differentiator‑style Spanish BERT trained on a large Spanish corpus.  \n",
      "     - Experiments training on Spanish data, training on limited English data and validating on automatically translated English news, and a purely recurrent (LSTM) network.\n",
      "\n",
      "5. **Findings**  \n",
      "   * The best performance (≈ 80 % accuracy) comes from a deep‑learning model that uses Spanish pre‑trained embeddings.  \n",
      "   * A Recurrent Neural Network with LSTM layers yields almost the same accuracy (~ 80 %).  \n",
      "   * Translation‑based validation (English‑to‑Spanish) does **not** significantly improve results.\n",
      "\n",
      "---\n",
      "\n",
      "**In essence**, this work presents a comparative study of fake‑news detection approaches tailored to Spanish, demonstrates that state‑of‑the‑art deep‑learning architectures can reach around 80 % accuracy with existing small Spanish corpora, and proposes this as a baseline for further research in the language.\n"
     ]
    }
   ],
   "source": [
    "# Example 2: Analyze Document\n",
    "\n",
    "messages = [HumanMessage(content=\"According to the abstract in the provided images. What's this research about?\")]\n",
    "messages = react_graph.invoke({\"messages\": messages, \"input_file\": \"data/fake_news_detection_paper_abstract.png\"})\n",
    "\n",
    "# Show the messages\n",
    "for m in messages['messages']:\n",
    "    m.pretty_print()"
   ]
  }
 ],
 "metadata": {
  "kernelspec": {
   "display_name": "agents_mcp_env",
   "language": "python",
   "name": "python3"
  },
  "language_info": {
   "codemirror_mode": {
    "name": "ipython",
    "version": 3
   },
   "file_extension": ".py",
   "mimetype": "text/x-python",
   "name": "python",
   "nbconvert_exporter": "python",
   "pygments_lexer": "ipython3",
   "version": "3.13.5"
  }
 },
 "nbformat": 4,
 "nbformat_minor": 5
}
